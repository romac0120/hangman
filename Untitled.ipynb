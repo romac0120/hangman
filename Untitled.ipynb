{
 "cells": [
  {
   "cell_type": "code",
   "execution_count": 92,
   "metadata": {
    "scrolled": true
   },
   "outputs": [
    {
     "name": "stdout",
     "output_type": "stream",
     "text": [
      "閾値＝ 129\n"
     ]
    },
    {
     "data": {
      "image/png": "[encoded data removed]",
      "text/plain": [
       "<PIL.PngImagePlugin.PngImageFile image mode=RGB size=50x50 at 0x13F2F0C4940>"
      ]
     },
     "execution_count": 92,
     "metadata": {},
     "output_type": "execute_result"
    },
    {
     "data": {
      "image/png": "[encoded data removed]",
      "text/plain": [
       "<Figure size 432x288 with 1 Axes>"
      ]
     },
     "metadata": {
      "needs_background": "light"
     },
     "output_type": "display_data"
    }
   ],
   "source": [
    "#画像を任意の画素値（グレースケール値）で二値化するプログラム\n",
    "from PIL import Image\n",
    "import numpy as np\n",
    "import matplotlib.pyplot as plt\n",
    "import collections\n",
    "import copy\n",
    "\n",
    "P_TILE_PER = 0.15 #pタイル法のパーセンテージ\n",
    "class Binarization:\n",
    "    def __init__(self, img):\n",
    "        self.img = img\n",
    "        self.i_dash = 0\n",
    "        self.h = 0\n",
    "        self.size = 0\n",
    "        self.th = 0\n",
    "        self.binarization_value = 0\n",
    "        self.grayscale_value = 0\n",
    "        self.binarization_image = 0\n",
    "        self.grayscale_image = 0\n",
    "    #RGBの画素値をグレースケールに変換し、ヒストグラム表示\n",
    "    def create_histogram(self):\n",
    "        rgb_img = self.img.convert('RGB')\n",
    "        self.size = rgb_img.size\n",
    "        self.i_dash = []\n",
    "        for x in range(self.size[0]):\n",
    "            for y in range(self.size[1]): #IのRGB取得とグレースケール化 \n",
    "                r, g, b = rgb_img.getpixel((x,y))\n",
    "                self.i_dash.append(int(0.298912 * r + 0.586611 * g + 0.114478 * b))\n",
    "        plt.hist(self.i_dash)\n",
    "    #ヒストグラムから閾値の算出\n",
    "    def create_threshold(self):\n",
    "        now_sum = 0\n",
    "        self.h = sorted(collections.Counter(self.i_dash).items())\n",
    "        for i in self.h:\n",
    "            now_sum += i[1]\n",
    "            if now_sum >= P_TILE_PER*self.size[0]*self.size[1]:\n",
    "                self.th = i[0] + 1\n",
    "                break\n",
    "        print(\"閾値＝\", self.th)\n",
    "    #閾値から二値化して、また画像に戻す\n",
    "    def create_binarization_image(self):\n",
    "        self.grayscale_value = np.zeros((self.size[0],self.size[1]))\n",
    "        self.binarization_value = np.zeros((self.size[0],self.size[1]))\n",
    "        for i in range(self.size[0]):\n",
    "            for j in range(self.size[1]):\n",
    "                self.grayscale_value[i][j] = self.i_dash[i*self.size[1] + j]\n",
    "                if self.grayscale_value[i][j] >= self.th:\n",
    "                    self.binarization_value[i][j] = 255 #RGBに直すので(1,0)の二値化でなく(255,0)=(白,黒)の二値化にする\n",
    "                elif self.grayscale_value[i][j] < self.th:\n",
    "                    self.binarization_value[i][j] = 0\n",
    "        self.grayscale_image = Image.fromarray(self.grayscale_value)\n",
    "        self.grayscale_image = self.grayscale_image.convert('RGB')\n",
    "        self.grayscale_image.save('grayscaled_image.png')\n",
    "        \n",
    "        self.binarization_image = Image.fromarray(self.binarization_value)\n",
    "        self.binarization_image = self.binarization_image.convert('RGB')\n",
    "        self.binarization_image.save('binarizationed_image.png')\n",
    "img = Image.open(\"derich.png\")\n",
    "img_1 = Binarization(img)\n",
    "img_1.create_histogram()\n",
    "img_1.create_threshold()\n",
    "img_1.create_binarization_image()\n",
    "\n",
    "Image.open('binarizationed_image.png')"
   ]
  }
 ],
 "metadata": {
  "kernelspec": {
   "display_name": "Python 3",
   "language": "python",
   "name": "python3"
  },
  "language_info": {
   "codemirror_mode": {
    "name": "ipython",
    "version": 3
   },
   "file_extension": ".py",
   "mimetype": "text/x-python",
   "name": "python",
   "nbconvert_exporter": "python",
   "pygments_lexer": "ipython3",
   "version": "3.8.3"
  }
 },
 "nbformat": 4,
 "nbformat_minor": 4
}
